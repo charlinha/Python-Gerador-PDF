{
 "cells": [
  {
   "cell_type": "markdown",
   "id": "2ea6f6e2-cb97-4728-9484-babf43c35962",
   "metadata": {},
   "source": [
    "## Projeto de fazer PDF em Python"
   ]
  },
  {
   "cell_type": "code",
   "execution_count": 2,
   "id": "a2a12d08-3047-44a7-b6fd-c7cca152cc30",
   "metadata": {},
   "outputs": [
    {
     "name": "stdout",
     "output_type": "stream",
     "text": [
      "KKK EAE MEN\n",
      "is vin diesel really your name?\n",
      "Mark Vincent Clark\n"
     ]
    }
   ],
   "source": [
    "print(\"KKK EAE MEN\")\n",
    "print(\"is Vin Diesel really your name?\")\n",
    "print (\"Mark Vincent Clark\")"
   ]
  },
  {
   "cell_type": "markdown",
   "id": "80217038-c1ef-4314-91e9-a106ffdc2a5a",
   "metadata": {},
   "source": [
    "## Entrada de dados do Usuário"
   ]
  },
  {
   "cell_type": "code",
   "execution_count": 11,
   "id": "040c6993-8e97-442e-8826-80b36d472449",
   "metadata": {},
   "outputs": [
    {
     "name": "stdin",
     "output_type": "stream",
     "text": [
      "Digite seu nome: Vin Diesel\n",
      "Is Vin Diesel Really your name? Mark Vincent Clark\n"
     ]
    },
    {
     "data": {
      "text/plain": [
       "'Mark Vincent Clark'"
      ]
     },
     "execution_count": 11,
     "metadata": {},
     "output_type": "execute_result"
    }
   ],
   "source": [
    "input (\"Digite seu nome:\")\n",
    "input(\"Is Vin Diesel Really your name?\")"
   ]
  },
  {
   "cell_type": "markdown",
   "id": "21be744a-4371-4843-b54b-f3e086aec6c9",
   "metadata": {},
   "source": [
    "## Armazenando dados em uma variável"
   ]
  },
  {
   "cell_type": "code",
   "execution_count": 12,
   "id": "852cf72c-6ed3-4874-878c-e25fc4e941c2",
   "metadata": {},
   "outputs": [],
   "source": [
    "nome = \"Golimar\""
   ]
  },
  {
   "cell_type": "code",
   "execution_count": 13,
   "id": "1af5c576-b189-4e90-933b-1a1a48603fd8",
   "metadata": {},
   "outputs": [
    {
     "name": "stdout",
     "output_type": "stream",
     "text": [
      "Golimar\n"
     ]
    }
   ],
   "source": [
    "print(nome)"
   ]
  },
  {
   "cell_type": "code",
   "execution_count": 3,
   "id": "fc3c4631-67ee-4a0b-9b82-52a319e279fc",
   "metadata": {},
   "outputs": [
    {
     "name": "stdin",
     "output_type": "stream",
     "text": [
      "Digite a descrição do projeto: Me tornar o rei dos piratas\n",
      "Digite a quantidade de horas previstas: 1111\n",
      "Digite o valor da hora trabalhada: 8000\n",
      "Digite o prazo do projeto: Infinito\n"
     ]
    }
   ],
   "source": [
    "projeto = input(\"Digite a descrição do projeto:\")\n",
    "horas_previstas = input(\"Digite a quantidade de horas previstas:\")\n",
    "valor_hora = input(\"Digite o valor da hora trabalhada:\")\n",
    "prazo = input(\"Digite o prazo do projeto:\")"
   ]
  },
  {
   "cell_type": "code",
   "execution_count": 4,
   "id": "3389e360-2424-4532-8bc9-e92717cf5532",
   "metadata": {},
   "outputs": [],
   "source": [
    "valor_total = int(valor_hora)* int(horas_previstas)"
   ]
  },
  {
   "cell_type": "code",
   "execution_count": 9,
   "id": "e64e2297-3321-4b96-869f-652716459726",
   "metadata": {},
   "outputs": [
    {
     "data": {
      "text/plain": [
       "8888000"
      ]
     },
     "execution_count": 9,
     "metadata": {},
     "output_type": "execute_result"
    }
   ],
   "source": [
    "valor_total"
   ]
  },
  {
   "cell_type": "code",
   "execution_count": 6,
   "id": "1b9d9235-6da2-40a4-b244-547a4ea58f24",
   "metadata": {},
   "outputs": [],
   "source": [
    "from fpdf import FPDF"
   ]
  },
  {
   "cell_type": "code",
   "execution_count": 8,
   "id": "37e1929e-29bc-41fc-b1c8-40ee3089e7b9",
   "metadata": {},
   "outputs": [
    {
     "name": "stdout",
     "output_type": "stream",
     "text": [
      "orçamento gerado com sucesso!\n"
     ]
    }
   ],
   "source": [
    "pdf = FPDF()\n",
    "pdf.add_page()\n",
    "pdf.set_font(\"arial\")\n",
    "\n",
    "pdf.image(\"template.png\", x=0, y=0)\n",
    "\n",
    "pdf.text(115, 145, projeto)\n",
    "pdf.text(115, 160, horas_previstas)\n",
    "pdf.text(115, 175, valor_hora)\n",
    "pdf.text(115, 190, prazo)\n",
    "pdf.text(115, 205, str(valor_total))\n",
    "\n",
    "pdf.output(\"orçamento.pdf\")\n",
    "\n",
    "print(\"orçamento gerado com sucesso!\")"
   ]
  },
  {
   "cell_type": "code",
   "execution_count": null,
   "id": "8a34fc8b-5334-416f-94e0-a52524adaf09",
   "metadata": {},
   "outputs": [],
   "source": []
  },
  {
   "cell_type": "code",
   "execution_count": null,
   "id": "bf19fe74-db4b-48d4-ad98-4a9cba393551",
   "metadata": {},
   "outputs": [],
   "source": []
  }
 ],
 "metadata": {
  "kernelspec": {
   "display_name": "Python 3 (ipykernel)",
   "language": "python",
   "name": "python3"
  },
  "language_info": {
   "codemirror_mode": {
    "name": "ipython",
    "version": 3
   },
   "file_extension": ".py",
   "mimetype": "text/x-python",
   "name": "python",
   "nbconvert_exporter": "python",
   "pygments_lexer": "ipython3",
   "version": "3.11.7"
  }
 },
 "nbformat": 4,
 "nbformat_minor": 5
}
